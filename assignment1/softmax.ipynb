{
 "cells": [
  {
   "cell_type": "markdown",
   "metadata": {
    "tags": [
     "pdf-title"
    ]
   },
   "source": [
    "# Softmax exercise\n",
    "\n",
    "*Complete and hand in this completed worksheet (including its outputs and any supporting code outside of the worksheet) with your assignment submission. For more details see the [assignments page](http://vision.stanford.edu/teaching/cs231n/assignments.html) on the course website.*\n",
    "\n",
    "This exercise is analogous to the SVM exercise. You will:\n",
    "\n",
    "- implement a fully-vectorized **loss function** for the Softmax classifier\n",
    "- implement the fully-vectorized expression for its **analytic gradient**\n",
    "- **check your implementation** with numerical gradient\n",
    "- use a validation set to **tune the learning rate and regularization** strength\n",
    "- **optimize** the loss function with **SGD**\n",
    "- **visualize** the final learned weights\n"
   ]
  },
  {
   "cell_type": "code",
   "execution_count": 1,
   "metadata": {
    "tags": [
     "pdf-ignore"
    ]
   },
   "outputs": [],
   "source": [
    "import random\n",
    "import numpy as np\n",
    "from cs231n.data_utils import load_CIFAR10\n",
    "import matplotlib.pyplot as plt\n",
    "\n",
    "%matplotlib inline\n",
    "plt.rcParams['figure.figsize'] = (10.0, 8.0) # set default size of plots\n",
    "plt.rcParams['image.interpolation'] = 'nearest'\n",
    "plt.rcParams['image.cmap'] = 'gray'\n",
    "\n",
    "# for auto-reloading extenrnal modules\n",
    "# see http://stackoverflow.com/questions/1907993/autoreload-of-modules-in-ipython\n",
    "%load_ext autoreload\n",
    "%autoreload 2"
   ]
  },
  {
   "cell_type": "code",
   "execution_count": 2,
   "metadata": {
    "tags": [
     "pdf-ignore"
    ]
   },
   "outputs": [
    {
     "name": "stdout",
     "output_type": "stream",
     "text": [
      "Train data shape:  (49000, 3073)\n",
      "Train labels shape:  (49000,)\n",
      "Validation data shape:  (1000, 3073)\n",
      "Validation labels shape:  (1000,)\n",
      "Test data shape:  (1000, 3073)\n",
      "Test labels shape:  (1000,)\n",
      "dev data shape:  (500, 3073)\n",
      "dev labels shape:  (500,)\n"
     ]
    }
   ],
   "source": [
    "def get_CIFAR10_data(num_training=49000, num_validation=1000, num_test=1000, num_dev=500):\n",
    "    \"\"\"\n",
    "    Load the CIFAR-10 dataset from disk and perform preprocessing to prepare\n",
    "    it for the linear classifier. These are the same steps as we used for the\n",
    "    SVM, but condensed to a single function.  \n",
    "    \"\"\"\n",
    "    # Load the raw CIFAR-10 data\n",
    "    cifar10_dir = 'cs231n/datasets/cifar-10-batches-py'\n",
    "    \n",
    "    # Cleaning up variables to prevent loading data multiple times (which may cause memory issue)\n",
    "    try:\n",
    "       del X_train, y_train\n",
    "       del X_test, y_test\n",
    "       print('Clear previously loaded data.')\n",
    "    except:\n",
    "       pass\n",
    "\n",
    "    X_train, y_train, X_test, y_test = load_CIFAR10(cifar10_dir)\n",
    "    \n",
    "    # subsample the data\n",
    "    mask = list(range(num_training, num_training + num_validation))\n",
    "    X_val = X_train[mask]\n",
    "    y_val = y_train[mask]\n",
    "    mask = list(range(num_training))\n",
    "    X_train = X_train[mask]\n",
    "    y_train = y_train[mask]\n",
    "    mask = list(range(num_test))\n",
    "    X_test = X_test[mask]\n",
    "    y_test = y_test[mask]\n",
    "    mask = np.random.choice(num_training, num_dev, replace=False)\n",
    "    X_dev = X_train[mask]\n",
    "    y_dev = y_train[mask]\n",
    "    \n",
    "    # Preprocessing: reshape the image data into rows\n",
    "    X_train = np.reshape(X_train, (X_train.shape[0], -1))\n",
    "    X_val = np.reshape(X_val, (X_val.shape[0], -1))\n",
    "    X_test = np.reshape(X_test, (X_test.shape[0], -1))\n",
    "    X_dev = np.reshape(X_dev, (X_dev.shape[0], -1))\n",
    "    \n",
    "    # Normalize the data: subtract the mean image\n",
    "    mean_image = np.mean(X_train, axis = 0)\n",
    "    X_train -= mean_image\n",
    "    X_val -= mean_image\n",
    "    X_test -= mean_image\n",
    "    X_dev -= mean_image\n",
    "    \n",
    "    # add bias dimension and transform into columns\n",
    "    X_train = np.hstack([X_train, np.ones((X_train.shape[0], 1))])\n",
    "    X_val = np.hstack([X_val, np.ones((X_val.shape[0], 1))])\n",
    "    X_test = np.hstack([X_test, np.ones((X_test.shape[0], 1))])\n",
    "    X_dev = np.hstack([X_dev, np.ones((X_dev.shape[0], 1))])\n",
    "    \n",
    "    return X_train, y_train, X_val, y_val, X_test, y_test, X_dev, y_dev\n",
    "\n",
    "\n",
    "# Invoke the above function to get our data.\n",
    "X_train, y_train, X_val, y_val, X_test, y_test, X_dev, y_dev = get_CIFAR10_data()\n",
    "print('Train data shape: ', X_train.shape)\n",
    "print('Train labels shape: ', y_train.shape)\n",
    "print('Validation data shape: ', X_val.shape)\n",
    "print('Validation labels shape: ', y_val.shape)\n",
    "print('Test data shape: ', X_test.shape)\n",
    "print('Test labels shape: ', y_test.shape)\n",
    "print('dev data shape: ', X_dev.shape)\n",
    "print('dev labels shape: ', y_dev.shape)"
   ]
  },
  {
   "cell_type": "markdown",
   "metadata": {},
   "source": [
    "## Softmax Classifier\n",
    "\n",
    "Your code for this section will all be written inside **cs231n/classifiers/softmax.py**. \n"
   ]
  },
  {
   "cell_type": "code",
   "execution_count": 39,
   "metadata": {},
   "outputs": [
    {
     "name": "stdout",
     "output_type": "stream",
     "text": [
      "loss: 2.383236\n",
      "sanity check: 2.302585\n"
     ]
    }
   ],
   "source": [
    "# First implement the naive softmax loss function with nested loops.\n",
    "# Open the file cs231n/classifiers/softmax.py and implement the\n",
    "# softmax_loss_naive function.\n",
    "\n",
    "from cs231n.classifiers.softmax import softmax_loss_naive\n",
    "import time\n",
    "\n",
    "# Generate a random softmax weight matrix and use it to compute the loss.\n",
    "W = np.random.randn(3073, 10) * 0.0001\n",
    "loss, grad = softmax_loss_naive(W, X_dev, y_dev, 0.0)\n",
    "\n",
    "# As a rough sanity check, our loss should be something close to -log(0.1).\n",
    "print('loss: %f' % loss)\n",
    "print('sanity check: %f' % (-np.log(0.1)))"
   ]
  },
  {
   "cell_type": "markdown",
   "metadata": {
    "tags": [
     "pdf-inline"
    ]
   },
   "source": [
    "**Inline Question 1**\n",
    "\n",
    "Why do we expect our loss to be close to -log(0.1)? Explain briefly.**\n",
    "\n",
    "$\\color{blue}{\\textit Your Answer:}$ *There are 10 classes so random guessing will give accuracy of 0.1* \n",
    "\n"
   ]
  },
  {
   "cell_type": "code",
   "execution_count": 62,
   "metadata": {},
   "outputs": [
    {
     "name": "stdout",
     "output_type": "stream",
     "text": [
      "numerical: -1.935133 analytic: -1.935133, relative error: 1.377460e-08\n",
      "numerical: -0.380026 analytic: -0.380026, relative error: 1.032723e-08\n",
      "numerical: 1.888226 analytic: 1.888226, relative error: 5.020738e-08\n",
      "numerical: -2.655631 analytic: -2.655631, relative error: 1.185882e-08\n",
      "numerical: -0.599927 analytic: -0.599927, relative error: 8.721098e-09\n",
      "numerical: 0.954164 analytic: 0.954164, relative error: 1.564264e-08\n",
      "numerical: -1.768994 analytic: -1.768994, relative error: 3.446967e-08\n",
      "numerical: 1.105522 analytic: 1.105522, relative error: 1.552770e-08\n",
      "numerical: 3.071608 analytic: 3.071608, relative error: 5.297024e-09\n",
      "numerical: 0.448028 analytic: 0.448028, relative error: 4.913991e-09\n",
      "numerical: -6.869943 analytic: -6.869943, relative error: 1.407693e-09\n",
      "numerical: -0.044262 analytic: -0.044262, relative error: 5.619575e-07\n",
      "numerical: 1.426264 analytic: 1.426263, relative error: 2.042041e-08\n",
      "numerical: 1.820880 analytic: 1.820880, relative error: 2.785207e-09\n",
      "numerical: 0.940152 analytic: 0.940151, relative error: 3.461344e-08\n",
      "numerical: 4.315863 analytic: 4.315863, relative error: 1.440923e-09\n",
      "numerical: -2.087935 analytic: -2.087935, relative error: 2.963007e-10\n",
      "numerical: 1.262068 analytic: 1.262068, relative error: 1.693511e-08\n",
      "numerical: 2.243603 analytic: 2.243603, relative error: 4.135175e-09\n",
      "numerical: -2.441361 analytic: -2.441361, relative error: 3.891351e-09\n"
     ]
    }
   ],
   "source": [
    "# Complete the implementation of softmax_loss_naive and implement a (naive)\n",
    "# version of the gradient that uses nested loops.\n",
    "loss, grad = softmax_loss_naive(W, X_dev, y_dev, 0.0)\n",
    "\n",
    "# As we did for the SVM, use numeric gradient checking as a debugging tool.\n",
    "# The numeric gradient should be close to the analytic gradient.\n",
    "from cs231n.gradient_check import grad_check_sparse\n",
    "f = lambda w: softmax_loss_naive(w, X_dev, y_dev, 0.0)[0]\n",
    "grad_numerical = grad_check_sparse(f, W, grad, 10)\n",
    "\n",
    "# similar to SVM case, do another gradient check with regularization\n",
    "loss, grad = softmax_loss_naive(W, X_dev, y_dev, 5e1)\n",
    "f = lambda w: softmax_loss_naive(w, X_dev, y_dev, 5e1)[0]\n",
    "grad_numerical = grad_check_sparse(f, W, grad, 10)"
   ]
  },
  {
   "cell_type": "code",
   "execution_count": 61,
   "metadata": {},
   "outputs": [
    {
     "name": "stdout",
     "output_type": "stream",
     "text": [
      "naive loss: 2.383236e+00 computed in 0.287179s\n",
      "vectorized loss: 2.383236e+00 computed in 0.002228s\n",
      "Loss difference: 0.000000\n",
      "Gradient difference: 0.000000\n"
     ]
    }
   ],
   "source": [
    "# Now that we have a naive implementation of the softmax loss function and its gradient,\n",
    "# implement a vectorized version in softmax_loss_vectorized.\n",
    "# The two versions should compute the same results, but the vectorized version should be\n",
    "# much faster.\n",
    "tic = time.time()\n",
    "loss_naive, grad_naive = softmax_loss_naive(W, X_dev, y_dev, 0.000005)\n",
    "toc = time.time()\n",
    "print('naive loss: %e computed in %fs' % (loss_naive, toc - tic))\n",
    "\n",
    "from cs231n.classifiers.softmax import softmax_loss_vectorized\n",
    "tic = time.time()\n",
    "loss_vectorized, grad_vectorized = softmax_loss_vectorized(W, X_dev, y_dev, 0.000005)\n",
    "toc = time.time()\n",
    "print('vectorized loss: %e computed in %fs' % (loss_vectorized, toc - tic))\n",
    "\n",
    "# As we did for the SVM, we use the Frobenius norm to compare the two versions\n",
    "# of the gradient.\n",
    "grad_difference = np.linalg.norm(grad_naive - grad_vectorized, ord='fro')\n",
    "print('Loss difference: %f' % np.abs(loss_naive - loss_vectorized))\n",
    "print('Gradient difference: %f' % grad_difference)"
   ]
  },
  {
   "cell_type": "code",
   "execution_count": 63,
   "metadata": {
    "tags": [
     "code"
    ]
   },
   "outputs": [
    {
     "name": "stdout",
     "output_type": "stream",
     "text": [
      "Current best val accuracy 0.361 For lr 2.283580527148466e-07 reg 14591.535991328237\n",
      "Current best val accuracy 0.367 For lr 1.4071223907449733e-07 reg 11190.978794251916\n",
      "Current best val accuracy 0.368 For lr 4.923269218288901e-07 reg 10220.932661076893\n",
      "Current best val accuracy 0.37 For lr 1.8934147794411953e-07 reg 10146.469301204488\n",
      "Current best val accuracy 0.373 For lr 4.1123491607513235e-07 reg 10808.756649363519\n",
      "lr 1.041249e-07 reg 9.554183e+04 train accuracy: 0.290061 val accuracy: 0.303000\n",
      "lr 1.060243e-07 reg 8.184186e+04 train accuracy: 0.290673 val accuracy: 0.302000\n",
      "lr 1.078691e-07 reg 1.750869e+04 train accuracy: 0.345796 val accuracy: 0.354000\n",
      "lr 1.123570e-07 reg 3.404721e+04 train accuracy: 0.321204 val accuracy: 0.341000\n",
      "lr 1.217189e-07 reg 1.298479e+04 train accuracy: 0.348898 val accuracy: 0.366000\n",
      "lr 1.271632e-07 reg 8.017040e+04 train accuracy: 0.295939 val accuracy: 0.308000\n",
      "lr 1.284589e-07 reg 4.010283e+04 train accuracy: 0.317857 val accuracy: 0.332000\n",
      "lr 1.289191e-07 reg 1.036451e+04 train accuracy: 0.354327 val accuracy: 0.364000\n",
      "lr 1.345895e-07 reg 4.525122e+04 train accuracy: 0.320531 val accuracy: 0.326000\n",
      "lr 1.378392e-07 reg 4.200143e+04 train accuracy: 0.309592 val accuracy: 0.326000\n",
      "lr 1.382514e-07 reg 2.381662e+04 train accuracy: 0.323959 val accuracy: 0.341000\n",
      "lr 1.395394e-07 reg 1.161185e+04 train accuracy: 0.350204 val accuracy: 0.370000\n",
      "lr 1.407122e-07 reg 1.119098e+04 train accuracy: 0.356408 val accuracy: 0.367000\n",
      "lr 1.420110e-07 reg 2.081522e+04 train accuracy: 0.339857 val accuracy: 0.350000\n",
      "lr 1.425649e-07 reg 3.506925e+04 train accuracy: 0.313898 val accuracy: 0.327000\n",
      "lr 1.447164e-07 reg 4.774812e+04 train accuracy: 0.297939 val accuracy: 0.319000\n",
      "lr 1.448311e-07 reg 1.392380e+04 train accuracy: 0.347245 val accuracy: 0.360000\n",
      "lr 1.517405e-07 reg 9.079785e+04 train accuracy: 0.296000 val accuracy: 0.308000\n",
      "lr 1.526100e-07 reg 2.948715e+04 train accuracy: 0.330306 val accuracy: 0.341000\n",
      "lr 1.552913e-07 reg 2.738613e+04 train accuracy: 0.321837 val accuracy: 0.343000\n",
      "lr 1.557630e-07 reg 7.084768e+04 train accuracy: 0.307143 val accuracy: 0.318000\n",
      "lr 1.599402e-07 reg 1.316168e+04 train accuracy: 0.349816 val accuracy: 0.368000\n",
      "lr 1.645991e-07 reg 2.038053e+04 train accuracy: 0.334796 val accuracy: 0.353000\n",
      "lr 1.733132e-07 reg 7.287118e+04 train accuracy: 0.293082 val accuracy: 0.309000\n",
      "lr 1.835503e-07 reg 1.250176e+04 train accuracy: 0.353224 val accuracy: 0.360000\n",
      "lr 1.865942e-07 reg 3.390052e+04 train accuracy: 0.325837 val accuracy: 0.347000\n",
      "lr 1.893415e-07 reg 1.014647e+04 train accuracy: 0.355367 val accuracy: 0.370000\n",
      "lr 2.054351e-07 reg 1.321700e+04 train accuracy: 0.346020 val accuracy: 0.357000\n",
      "lr 2.112836e-07 reg 1.096109e+04 train accuracy: 0.353898 val accuracy: 0.366000\n",
      "lr 2.198926e-07 reg 2.030855e+04 train accuracy: 0.335816 val accuracy: 0.351000\n",
      "lr 2.247836e-07 reg 4.096922e+04 train accuracy: 0.321286 val accuracy: 0.332000\n",
      "lr 2.283581e-07 reg 1.459154e+04 train accuracy: 0.345633 val accuracy: 0.361000\n",
      "lr 2.427248e-07 reg 9.969032e+04 train accuracy: 0.277898 val accuracy: 0.280000\n",
      "lr 2.455959e-07 reg 6.889302e+04 train accuracy: 0.283429 val accuracy: 0.304000\n",
      "lr 2.562663e-07 reg 1.805552e+04 train accuracy: 0.341980 val accuracy: 0.360000\n",
      "lr 2.588628e-07 reg 4.630100e+04 train accuracy: 0.307653 val accuracy: 0.327000\n",
      "lr 2.641927e-07 reg 2.878646e+04 train accuracy: 0.323388 val accuracy: 0.333000\n",
      "lr 2.642968e-07 reg 1.119426e+04 train accuracy: 0.351918 val accuracy: 0.373000\n",
      "lr 2.695971e-07 reg 1.624586e+04 train accuracy: 0.340408 val accuracy: 0.353000\n",
      "lr 2.779021e-07 reg 4.237078e+04 train accuracy: 0.305408 val accuracy: 0.314000\n",
      "lr 2.795652e-07 reg 1.058382e+04 train accuracy: 0.354714 val accuracy: 0.368000\n",
      "lr 2.927788e-07 reg 3.558541e+04 train accuracy: 0.314816 val accuracy: 0.328000\n",
      "lr 2.959002e-07 reg 1.409102e+04 train accuracy: 0.342531 val accuracy: 0.362000\n",
      "lr 3.010372e-07 reg 5.940151e+04 train accuracy: 0.298857 val accuracy: 0.311000\n",
      "lr 3.075091e-07 reg 4.818744e+04 train accuracy: 0.316122 val accuracy: 0.327000\n",
      "lr 3.152726e-07 reg 4.882877e+04 train accuracy: 0.315000 val accuracy: 0.327000\n",
      "lr 3.403259e-07 reg 1.411011e+04 train accuracy: 0.348408 val accuracy: 0.364000\n",
      "lr 3.458945e-07 reg 2.480785e+04 train accuracy: 0.332082 val accuracy: 0.342000\n",
      "lr 3.461618e-07 reg 2.709243e+04 train accuracy: 0.323633 val accuracy: 0.338000\n",
      "lr 3.517685e-07 reg 1.593608e+04 train accuracy: 0.339694 val accuracy: 0.351000\n",
      "lr 3.550814e-07 reg 2.754614e+04 train accuracy: 0.322878 val accuracy: 0.331000\n",
      "lr 3.577849e-07 reg 4.197385e+04 train accuracy: 0.308959 val accuracy: 0.327000\n",
      "lr 3.766384e-07 reg 1.160172e+04 train accuracy: 0.352061 val accuracy: 0.357000\n",
      "lr 3.797483e-07 reg 1.882326e+04 train accuracy: 0.329816 val accuracy: 0.352000\n",
      "lr 3.797803e-07 reg 3.340154e+04 train accuracy: 0.319612 val accuracy: 0.343000\n",
      "lr 3.801003e-07 reg 2.138846e+04 train accuracy: 0.334367 val accuracy: 0.351000\n",
      "lr 3.979796e-07 reg 9.990045e+04 train accuracy: 0.284163 val accuracy: 0.291000\n",
      "lr 4.072424e-07 reg 9.243312e+04 train accuracy: 0.290429 val accuracy: 0.310000\n",
      "lr 4.100106e-07 reg 2.058463e+04 train accuracy: 0.338265 val accuracy: 0.357000\n",
      "lr 4.112349e-07 reg 1.080876e+04 train accuracy: 0.354184 val accuracy: 0.373000\n",
      "lr 4.120481e-07 reg 4.740754e+04 train accuracy: 0.295918 val accuracy: 0.316000\n",
      "lr 4.228076e-07 reg 5.669506e+04 train accuracy: 0.303367 val accuracy: 0.316000\n",
      "lr 4.454891e-07 reg 1.530618e+04 train accuracy: 0.346367 val accuracy: 0.362000\n",
      "lr 4.634762e-07 reg 3.717356e+04 train accuracy: 0.308000 val accuracy: 0.327000\n",
      "lr 4.668959e-07 reg 1.196699e+04 train accuracy: 0.346327 val accuracy: 0.350000\n",
      "lr 4.712716e-07 reg 1.057261e+04 train accuracy: 0.348551 val accuracy: 0.357000\n",
      "lr 4.718108e-07 reg 9.559415e+04 train accuracy: 0.271592 val accuracy: 0.286000\n",
      "lr 4.725130e-07 reg 1.900836e+04 train accuracy: 0.329571 val accuracy: 0.335000\n",
      "lr 4.787331e-07 reg 3.854013e+04 train accuracy: 0.313224 val accuracy: 0.334000\n",
      "lr 4.923269e-07 reg 1.022093e+04 train accuracy: 0.357306 val accuracy: 0.368000\n",
      "lr 4.927508e-07 reg 1.662875e+04 train accuracy: 0.342408 val accuracy: 0.347000\n",
      "lr 4.940893e-07 reg 7.652299e+04 train accuracy: 0.301510 val accuracy: 0.316000\n",
      "lr 4.961991e-07 reg 2.422359e+04 train accuracy: 0.321327 val accuracy: 0.329000\n",
      "lr 5.506393e-07 reg 5.647770e+04 train accuracy: 0.299286 val accuracy: 0.311000\n",
      "lr 5.514088e-07 reg 8.032359e+04 train accuracy: 0.271714 val accuracy: 0.289000\n",
      "lr 5.514499e-07 reg 5.555083e+04 train accuracy: 0.308980 val accuracy: 0.322000\n",
      "lr 5.568201e-07 reg 3.196473e+04 train accuracy: 0.311000 val accuracy: 0.310000\n",
      "lr 5.578337e-07 reg 1.198724e+04 train accuracy: 0.343592 val accuracy: 0.365000\n",
      "lr 5.670986e-07 reg 1.725388e+04 train accuracy: 0.327571 val accuracy: 0.341000\n",
      "lr 6.244892e-07 reg 6.282803e+04 train accuracy: 0.294776 val accuracy: 0.301000\n",
      "lr 6.298741e-07 reg 2.485410e+04 train accuracy: 0.329633 val accuracy: 0.355000\n",
      "lr 6.334821e-07 reg 2.418632e+04 train accuracy: 0.322755 val accuracy: 0.336000\n",
      "lr 6.422326e-07 reg 6.118387e+04 train accuracy: 0.296367 val accuracy: 0.302000\n",
      "lr 6.566248e-07 reg 5.098230e+04 train accuracy: 0.305061 val accuracy: 0.313000\n",
      "lr 6.600630e-07 reg 4.198651e+04 train accuracy: 0.304102 val accuracy: 0.322000\n",
      "lr 6.799708e-07 reg 6.459619e+04 train accuracy: 0.303388 val accuracy: 0.309000\n",
      "lr 7.014026e-07 reg 5.754860e+04 train accuracy: 0.304143 val accuracy: 0.315000\n",
      "lr 7.164500e-07 reg 1.665202e+04 train accuracy: 0.325204 val accuracy: 0.348000\n",
      "lr 7.409532e-07 reg 1.173660e+04 train accuracy: 0.342102 val accuracy: 0.343000\n",
      "lr 7.686787e-07 reg 1.163117e+04 train accuracy: 0.346898 val accuracy: 0.353000\n",
      "lr 7.736709e-07 reg 4.948506e+04 train accuracy: 0.302673 val accuracy: 0.298000\n",
      "lr 7.969153e-07 reg 8.648698e+04 train accuracy: 0.274837 val accuracy: 0.280000\n",
      "lr 8.193255e-07 reg 1.350929e+04 train accuracy: 0.335163 val accuracy: 0.347000\n",
      "lr 8.629431e-07 reg 3.530505e+04 train accuracy: 0.307959 val accuracy: 0.318000\n",
      "lr 8.707397e-07 reg 8.282683e+04 train accuracy: 0.269469 val accuracy: 0.277000\n",
      "lr 8.893881e-07 reg 5.811872e+04 train accuracy: 0.297694 val accuracy: 0.305000\n",
      "lr 9.082196e-07 reg 2.693333e+04 train accuracy: 0.312408 val accuracy: 0.331000\n",
      "lr 9.192252e-07 reg 2.152741e+04 train accuracy: 0.325224 val accuracy: 0.329000\n",
      "lr 9.382244e-07 reg 1.508664e+04 train accuracy: 0.342796 val accuracy: 0.353000\n",
      "lr 9.954801e-07 reg 2.389188e+04 train accuracy: 0.324367 val accuracy: 0.347000\n",
      "best validation accuracy achieved during cross-validation: 0.373000\n"
     ]
    }
   ],
   "source": [
    "# Use the validation set to tune hyperparameters (regularization strength and\n",
    "# learning rate). You should experiment with different ranges for the learning\n",
    "# rates and regularization strengths; if you are careful you should be able to\n",
    "# get a classification accuracy of over 0.35 on the validation set.\n",
    "from cs231n.classifiers import Softmax\n",
    "results = {}\n",
    "best_val = -1\n",
    "best_softmax = None\n",
    "learning_rates = [1e-7, 5e-7] # not used\n",
    "regularization_strengths = [2.5e4, 5e4] # not used\n",
    "\n",
    "################################################################################\n",
    "# TODO:                                                                        #\n",
    "# Use the validation set to set the learning rate and regularization strength. #\n",
    "# This should be identical to the validation that you did for the SVM; save    #\n",
    "# the best trained softmax classifer in best_softmax.                          #\n",
    "################################################################################\n",
    "# *****START OF YOUR CODE (DO NOT DELETE/MODIFY THIS LINE)*****\n",
    "\n",
    "cv_num_iters = 1500\n",
    "lr_range = [1e-7, 1e-6]\n",
    "regularization_range = [1e4, 1e5]\n",
    "\n",
    "def sample_hyperparam(valrange,use_log=False):\n",
    "    if use_log:\n",
    "        minval = np.log10(valrange[0])\n",
    "        maxval = np.log10(valrange[1])\n",
    "    else:\n",
    "        minval = valrange[0]\n",
    "        maxval = valrange[1]\n",
    "    randval = np.random.rand()*(maxval-minval) + minval\n",
    "    if use_log:\n",
    "        return 10**randval\n",
    "    else:\n",
    "        return randval\n",
    "    \n",
    "    \n",
    "for _ in range(100):\n",
    "    cv_lr = sample_hyperparam(lr_range,use_log=True)\n",
    "    cv_reg = sample_hyperparam(regularization_range,use_log=True)\n",
    "    cv_softmax = Softmax()\n",
    "    cv_loss_hist = cv_softmax.train(X_train, y_train, learning_rate=cv_lr, reg=cv_reg,\n",
    "                                  num_iters=cv_num_iters, verbose=False)\n",
    "    cv_train_acc = np.mean(y_train == cv_softmax.predict(X_train))\n",
    "    cv_val_acc = np.mean(y_val == cv_softmax.predict(X_val))\n",
    "    results[(cv_lr,cv_reg)] = (cv_train_acc,cv_val_acc)\n",
    "    if cv_val_acc > best_val:\n",
    "        best_softmax = cv_softmax\n",
    "        best_val = cv_val_acc\n",
    "        best_reg = cv_reg\n",
    "        best_lr = cv_lr\n",
    "        print('Current best val accuracy',best_val,'For lr',best_lr,'reg',best_reg)\n",
    "\n",
    "# *****END OF YOUR CODE (DO NOT DELETE/MODIFY THIS LINE)*****\n",
    "    \n",
    "# Print out results.\n",
    "for lr, reg in sorted(results):\n",
    "    train_accuracy, val_accuracy = results[(lr, reg)]\n",
    "    print('lr %e reg %e train accuracy: %f val accuracy: %f' % (\n",
    "                lr, reg, train_accuracy, val_accuracy))\n",
    "    \n",
    "print('best validation accuracy achieved during cross-validation: %f' % best_val)"
   ]
  },
  {
   "cell_type": "code",
   "execution_count": 65,
   "metadata": {},
   "outputs": [
    {
     "name": "stdout",
     "output_type": "stream",
     "text": [
      "softmax on raw pixels final test set accuracy: 0.357000\n"
     ]
    }
   ],
   "source": [
    "# evaluate on test set\n",
    "# Evaluate the best softmax on test set\n",
    "y_test_pred = best_softmax.predict(X_test)\n",
    "test_accuracy = np.mean(y_test == y_test_pred)\n",
    "print('softmax on raw pixels final test set accuracy: %f' % (test_accuracy, ))"
   ]
  },
  {
   "cell_type": "markdown",
   "metadata": {
    "tags": [
     "pdf-inline"
    ]
   },
   "source": [
    "**Inline Question 2** - *True or False*\n",
    "\n",
    "Suppose the overall training loss is defined as the sum of the per-datapoint loss over all training examples. It is possible to add a new datapoint to a training set that would leave the SVM loss unchanged, but this is not the case with the Softmax classifier loss.\n",
    "\n",
    "$\\color{blue}{\\textit Your Answer: }$ False\n",
    "\n",
    "\n",
    "$\\color{blue}{\\textit Your Explanation:  }$ One can add a new datapoint that will exactly match the continious curve the softmax classifier has drawn. That said, it will be much harder than for SVM loss which is just zero outside the margin.\n",
    "\n"
   ]
  },
  {
   "cell_type": "code",
   "execution_count": 67,
   "metadata": {},
   "outputs": [
    {
     "data": {
      "image/png": "[encoded data removed]",
      "text/plain": [
       "<Figure size 432x288 with 10 Axes>"
      ]
     },
     "metadata": {},
     "output_type": "display_data"
    }
   ],
   "source": [
    "# Visualize the learned weights for each class\n",
    "w = best_softmax.W[:-1,:] # strip out the bias\n",
    "w = w.reshape(32, 32, 3, 10)\n",
    "\n",
    "w_min, w_max = np.min(w), np.max(w)\n",
    "\n",
    "classes = ['plane', 'car', 'bird', 'cat', 'deer', 'dog', 'frog', 'horse', 'ship', 'truck']\n",
    "for i in range(10):\n",
    "    plt.subplot(2, 5, i + 1)\n",
    "    \n",
    "    # Rescale the weights to be between 0 and 255\n",
    "    wimg = 255.0 * (w[:, :, :, i].squeeze() - w_min) / (w_max - w_min)\n",
    "    plt.imshow(wimg.astype('uint8'))\n",
    "    plt.axis('off')\n",
    "    plt.title(classes[i])"
   ]
  }
 ],
 "metadata": {
  "kernelspec": {
   "display_name": "Python 3",
   "language": "python",
   "name": "python3"
  },
  "language_info": {
   "codemirror_mode": {
    "name": "ipython",
    "version": 3
   },
   "file_extension": ".py",
   "mimetype": "text/x-python",
   "name": "python",
   "nbconvert_exporter": "python",
   "pygments_lexer": "ipython3",
   "version": "3.6.2"
  }
 },
 "nbformat": 4,
 "nbformat_minor": 1
}
